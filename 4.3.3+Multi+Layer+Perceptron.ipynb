{
 "cells": [
  {
   "cell_type": "code",
   "execution_count": 1,
   "metadata": {
    "collapsed": true,
    "run_control": {
     "frozen": false,
     "read_only": false
    }
   },
   "outputs": [],
   "source": [
    "import numpy as np\n",
    "import pandas as pd\n",
    "import matplotlib.pyplot as plt\n",
    "from sklearn.neural_network import MLPClassifier\n",
    "from sklearn.preprocessing import StandardScaler\n",
    "from sklearn.model_selection import cross_val_score\n",
    "%matplotlib inline"
   ]
  },
  {
   "cell_type": "markdown",
   "metadata": {
    "run_control": {
     "frozen": false,
     "read_only": false
    }
   },
   "source": [
    "We're ready to build our first neural network. We will have multiple features we feed into our model, each of which will go through a set of perceptron models to arrive at a response which will be trained to our output.\n",
    "\n",
    "Like many models we've covered, this can be used as both a regression or classification model.\n",
    "\n",
    "First, we need to load our dataset. For this example we'll use The Museum of Modern Art in New York's [public dataset](https://media.githubusercontent.com/media/MuseumofModernArt/collection/master/Artworks.csv) on their collection."
   ]
  },
  {
   "cell_type": "code",
   "execution_count": 25,
   "metadata": {
    "run_control": {
     "frozen": false,
     "read_only": false
    }
   },
   "outputs": [
    {
     "data": {
      "text/plain": [
       "array(['Ink and cut-and-pasted painted pages on paper',\n",
       "       'Paint and colored pencil on print',\n",
       "       'Graphite, pen, color pencil, ink, and gouache on tracing paper',\n",
       "       ...,\n",
       "       '16 notes: Ink, pencil, and colored pencil on paper (one with pin)',\n",
       "       '35mm slides', 'Floppy disk'], dtype=object)"
      ]
     },
     "execution_count": 25,
     "metadata": {},
     "output_type": "execute_result"
    }
   ],
   "source": [
    "artworks = pd.read_csv('art_data.csv')\n",
    "artworks.Medium.unique()"
   ]
  },
  {
   "cell_type": "code",
   "execution_count": 3,
   "metadata": {
    "run_control": {
     "frozen": false,
     "read_only": false
    },
    "scrolled": true
   },
   "outputs": [
    {
     "data": {
      "text/plain": [
       "Index(['Title', 'Artist', 'ConstituentID', 'ArtistBio', 'Nationality',\n",
       "       'BeginDate', 'EndDate', 'Gender', 'Date', 'Medium', 'Dimensions',\n",
       "       'CreditLine', 'AccessionNumber', 'Classification', 'Department',\n",
       "       'DateAcquired', 'Cataloged', 'ObjectID', 'URL', 'ThumbnailURL',\n",
       "       'Circumference (cm)', 'Depth (cm)', 'Diameter (cm)', 'Height (cm)',\n",
       "       'Length (cm)', 'Weight (kg)', 'Width (cm)', 'Seat Height (cm)',\n",
       "       'Duration (sec.)'],\n",
       "      dtype='object')"
      ]
     },
     "execution_count": 3,
     "metadata": {},
     "output_type": "execute_result"
    }
   ],
   "source": [
    "artworks.columns"
   ]
  },
  {
   "cell_type": "code",
   "execution_count": 4,
   "metadata": {},
   "outputs": [
    {
     "data": {
      "text/html": [
       "<div>\n",
       "<style>\n",
       "    .dataframe thead tr:only-child th {\n",
       "        text-align: right;\n",
       "    }\n",
       "\n",
       "    .dataframe thead th {\n",
       "        text-align: left;\n",
       "    }\n",
       "\n",
       "    .dataframe tbody tr th {\n",
       "        vertical-align: top;\n",
       "    }\n",
       "</style>\n",
       "<table border=\"1\" class=\"dataframe\">\n",
       "  <thead>\n",
       "    <tr style=\"text-align: right;\">\n",
       "      <th></th>\n",
       "      <th>Title</th>\n",
       "      <th>Artist</th>\n",
       "      <th>ConstituentID</th>\n",
       "      <th>ArtistBio</th>\n",
       "      <th>Nationality</th>\n",
       "      <th>BeginDate</th>\n",
       "      <th>EndDate</th>\n",
       "      <th>Gender</th>\n",
       "      <th>Date</th>\n",
       "      <th>Medium</th>\n",
       "      <th>Dimensions</th>\n",
       "      <th>CreditLine</th>\n",
       "    </tr>\n",
       "  </thead>\n",
       "  <tbody>\n",
       "    <tr>\n",
       "      <th>0</th>\n",
       "      <td>Ferdinandsbrücke Project, Vienna, Austria, Ele...</td>\n",
       "      <td>Otto Wagner</td>\n",
       "      <td>6210</td>\n",
       "      <td>(Austrian, 1841–1918)</td>\n",
       "      <td>(Austrian)</td>\n",
       "      <td>(1841)</td>\n",
       "      <td>(1918)</td>\n",
       "      <td>(Male)</td>\n",
       "      <td>1896</td>\n",
       "      <td>Ink and cut-and-pasted painted pages on paper</td>\n",
       "      <td>19 1/8 x 66 1/2\" (48.6 x 168.9 cm)</td>\n",
       "      <td>Fractional and promised gift of Jo Carole and ...</td>\n",
       "    </tr>\n",
       "    <tr>\n",
       "      <th>1</th>\n",
       "      <td>City of Music, National Superior Conservatory ...</td>\n",
       "      <td>Christian de Portzamparc</td>\n",
       "      <td>7470</td>\n",
       "      <td>(French, born 1944)</td>\n",
       "      <td>(French)</td>\n",
       "      <td>(1944)</td>\n",
       "      <td>(0)</td>\n",
       "      <td>(Male)</td>\n",
       "      <td>1987</td>\n",
       "      <td>Paint and colored pencil on print</td>\n",
       "      <td>16 x 11 3/4\" (40.6 x 29.8 cm)</td>\n",
       "      <td>Gift of the architect in honor of Lily Auchinc...</td>\n",
       "    </tr>\n",
       "  </tbody>\n",
       "</table>\n",
       "</div>"
      ],
      "text/plain": [
       "                                               Title  \\\n",
       "0  Ferdinandsbrücke Project, Vienna, Austria, Ele...   \n",
       "1  City of Music, National Superior Conservatory ...   \n",
       "\n",
       "                     Artist ConstituentID              ArtistBio Nationality  \\\n",
       "0               Otto Wagner          6210  (Austrian, 1841–1918)  (Austrian)   \n",
       "1  Christian de Portzamparc          7470    (French, born 1944)    (French)   \n",
       "\n",
       "  BeginDate EndDate  Gender  Date  \\\n",
       "0    (1841)  (1918)  (Male)  1896   \n",
       "1    (1944)     (0)  (Male)  1987   \n",
       "\n",
       "                                          Medium  \\\n",
       "0  Ink and cut-and-pasted painted pages on paper   \n",
       "1              Paint and colored pencil on print   \n",
       "\n",
       "                           Dimensions  \\\n",
       "0  19 1/8 x 66 1/2\" (48.6 x 168.9 cm)   \n",
       "1       16 x 11 3/4\" (40.6 x 29.8 cm)   \n",
       "\n",
       "                                          CreditLine  \n",
       "0  Fractional and promised gift of Jo Carole and ...  \n",
       "1  Gift of the architect in honor of Lily Auchinc...  "
      ]
     },
     "execution_count": 4,
     "metadata": {},
     "output_type": "execute_result"
    }
   ],
   "source": [
    "artworks.iloc[:, :12].head(2)"
   ]
  },
  {
   "cell_type": "code",
   "execution_count": 5,
   "metadata": {},
   "outputs": [
    {
     "data": {
      "text/html": [
       "<div>\n",
       "<style>\n",
       "    .dataframe thead tr:only-child th {\n",
       "        text-align: right;\n",
       "    }\n",
       "\n",
       "    .dataframe thead th {\n",
       "        text-align: left;\n",
       "    }\n",
       "\n",
       "    .dataframe tbody tr th {\n",
       "        vertical-align: top;\n",
       "    }\n",
       "</style>\n",
       "<table border=\"1\" class=\"dataframe\">\n",
       "  <thead>\n",
       "    <tr style=\"text-align: right;\">\n",
       "      <th></th>\n",
       "      <th>AccessionNumber</th>\n",
       "      <th>Classification</th>\n",
       "      <th>Department</th>\n",
       "      <th>DateAcquired</th>\n",
       "      <th>Cataloged</th>\n",
       "      <th>ObjectID</th>\n",
       "      <th>URL</th>\n",
       "      <th>ThumbnailURL</th>\n",
       "      <th>Circumference (cm)</th>\n",
       "      <th>Depth (cm)</th>\n",
       "      <th>Diameter (cm)</th>\n",
       "      <th>Height (cm)</th>\n",
       "      <th>Length (cm)</th>\n",
       "      <th>Weight (kg)</th>\n",
       "      <th>Width (cm)</th>\n",
       "      <th>Seat Height (cm)</th>\n",
       "      <th>Duration (sec.)</th>\n",
       "    </tr>\n",
       "  </thead>\n",
       "  <tbody>\n",
       "    <tr>\n",
       "      <th>0</th>\n",
       "      <td>885.1996</td>\n",
       "      <td>Architecture</td>\n",
       "      <td>Architecture &amp; Design</td>\n",
       "      <td>1996-04-09</td>\n",
       "      <td>Y</td>\n",
       "      <td>2.0</td>\n",
       "      <td>http://www.moma.org/collection/works/2</td>\n",
       "      <td>http://www.moma.org/media/W1siZiIsIjU5NDA1Il0s...</td>\n",
       "      <td>NaN</td>\n",
       "      <td>NaN</td>\n",
       "      <td>NaN</td>\n",
       "      <td>48.6000</td>\n",
       "      <td>NaN</td>\n",
       "      <td>NaN</td>\n",
       "      <td>168.9000</td>\n",
       "      <td>NaN</td>\n",
       "      <td>NaN</td>\n",
       "    </tr>\n",
       "    <tr>\n",
       "      <th>1</th>\n",
       "      <td>1.1995</td>\n",
       "      <td>Architecture</td>\n",
       "      <td>Architecture &amp; Design</td>\n",
       "      <td>1995-01-17</td>\n",
       "      <td>Y</td>\n",
       "      <td>3.0</td>\n",
       "      <td>http://www.moma.org/collection/works/3</td>\n",
       "      <td>http://www.moma.org/media/W1siZiIsIjk3Il0sWyJw...</td>\n",
       "      <td>NaN</td>\n",
       "      <td>NaN</td>\n",
       "      <td>NaN</td>\n",
       "      <td>40.6401</td>\n",
       "      <td>NaN</td>\n",
       "      <td>NaN</td>\n",
       "      <td>29.8451</td>\n",
       "      <td>NaN</td>\n",
       "      <td>NaN</td>\n",
       "    </tr>\n",
       "    <tr>\n",
       "      <th>2</th>\n",
       "      <td>1.1997</td>\n",
       "      <td>Architecture</td>\n",
       "      <td>Architecture &amp; Design</td>\n",
       "      <td>1997-01-15</td>\n",
       "      <td>Y</td>\n",
       "      <td>4.0</td>\n",
       "      <td>http://www.moma.org/collection/works/4</td>\n",
       "      <td>http://www.moma.org/media/W1siZiIsIjk4Il0sWyJw...</td>\n",
       "      <td>NaN</td>\n",
       "      <td>NaN</td>\n",
       "      <td>NaN</td>\n",
       "      <td>34.3000</td>\n",
       "      <td>NaN</td>\n",
       "      <td>NaN</td>\n",
       "      <td>31.8000</td>\n",
       "      <td>NaN</td>\n",
       "      <td>NaN</td>\n",
       "    </tr>\n",
       "    <tr>\n",
       "      <th>3</th>\n",
       "      <td>2.1995</td>\n",
       "      <td>Architecture</td>\n",
       "      <td>Architecture &amp; Design</td>\n",
       "      <td>1995-01-17</td>\n",
       "      <td>Y</td>\n",
       "      <td>5.0</td>\n",
       "      <td>http://www.moma.org/collection/works/5</td>\n",
       "      <td>http://www.moma.org/media/W1siZiIsIjEyNCJdLFsi...</td>\n",
       "      <td>NaN</td>\n",
       "      <td>NaN</td>\n",
       "      <td>NaN</td>\n",
       "      <td>50.8000</td>\n",
       "      <td>NaN</td>\n",
       "      <td>NaN</td>\n",
       "      <td>50.8000</td>\n",
       "      <td>NaN</td>\n",
       "      <td>NaN</td>\n",
       "    </tr>\n",
       "  </tbody>\n",
       "</table>\n",
       "</div>"
      ],
      "text/plain": [
       "  AccessionNumber Classification             Department DateAcquired  \\\n",
       "0        885.1996   Architecture  Architecture & Design   1996-04-09   \n",
       "1          1.1995   Architecture  Architecture & Design   1995-01-17   \n",
       "2          1.1997   Architecture  Architecture & Design   1997-01-15   \n",
       "3          2.1995   Architecture  Architecture & Design   1995-01-17   \n",
       "\n",
       "  Cataloged  ObjectID                                     URL  \\\n",
       "0         Y       2.0  http://www.moma.org/collection/works/2   \n",
       "1         Y       3.0  http://www.moma.org/collection/works/3   \n",
       "2         Y       4.0  http://www.moma.org/collection/works/4   \n",
       "3         Y       5.0  http://www.moma.org/collection/works/5   \n",
       "\n",
       "                                        ThumbnailURL  Circumference (cm)  \\\n",
       "0  http://www.moma.org/media/W1siZiIsIjU5NDA1Il0s...                 NaN   \n",
       "1  http://www.moma.org/media/W1siZiIsIjk3Il0sWyJw...                 NaN   \n",
       "2  http://www.moma.org/media/W1siZiIsIjk4Il0sWyJw...                 NaN   \n",
       "3  http://www.moma.org/media/W1siZiIsIjEyNCJdLFsi...                 NaN   \n",
       "\n",
       "   Depth (cm)  Diameter (cm)  Height (cm)  Length (cm)  Weight (kg)  \\\n",
       "0         NaN            NaN      48.6000          NaN          NaN   \n",
       "1         NaN            NaN      40.6401          NaN          NaN   \n",
       "2         NaN            NaN      34.3000          NaN          NaN   \n",
       "3         NaN            NaN      50.8000          NaN          NaN   \n",
       "\n",
       "   Width (cm)  Seat Height (cm)  Duration (sec.)  \n",
       "0    168.9000               NaN              NaN  \n",
       "1     29.8451               NaN              NaN  \n",
       "2     31.8000               NaN              NaN  \n",
       "3     50.8000               NaN              NaN  "
      ]
     },
     "execution_count": 5,
     "metadata": {},
     "output_type": "execute_result"
    }
   ],
   "source": [
    "artworks.iloc[:, 12:].head(4)"
   ]
  },
  {
   "cell_type": "code",
   "execution_count": 6,
   "metadata": {},
   "outputs": [
    {
     "data": {
      "text/plain": [
       "array(['Architecture & Design', 'Prints & Illustrated Books', 'Drawings',\n",
       "       'Painting & Sculpture', 'Photography', 'Media and Performance Art',\n",
       "       'Film', nan, 'Architecture & Design - Image Archive',\n",
       "       'Fluxus Collection'], dtype=object)"
      ]
     },
     "execution_count": 6,
     "metadata": {},
     "output_type": "execute_result"
    }
   ],
   "source": [
    "artworks.Department.unique()"
   ]
  },
  {
   "cell_type": "markdown",
   "metadata": {
    "run_control": {
     "frozen": false,
     "read_only": false
    }
   },
   "source": [
    "We'll also do a bit of data processing and cleaning, selecting columns of interest and converting URL's to booleans indicating whether they are present."
   ]
  },
  {
   "cell_type": "code",
   "execution_count": 7,
   "metadata": {
    "collapsed": true,
    "run_control": {
     "frozen": false,
     "read_only": false
    }
   },
   "outputs": [],
   "source": [
    "# Select Columns.\n",
    "artworks = artworks[['Artist', 'Nationality', 'Gender', 'Date', 'Department',\n",
    "                    'DateAcquired', 'URL', 'ThumbnailURL', 'Height (cm)', 'Width (cm)']]\n",
    "\n",
    "# Convert URL's to booleans.\n",
    "artworks['URL'] = artworks['URL'].notnull()\n",
    "artworks['ThumbnailURL'] = artworks['ThumbnailURL'].notnull()\n",
    "\n",
    "# Drop films and some other tricky rows.\n",
    "artworks = artworks[artworks['Department']!='Film']\n",
    "artworks = artworks[artworks['Department']!='Media and Performance Art']\n",
    "artworks = artworks[artworks['Department']!='Fluxus Collection']\n",
    "\n",
    "# Drop missing data.\n",
    "artworks = artworks.dropna()"
   ]
  },
  {
   "cell_type": "code",
   "execution_count": 8,
   "metadata": {
    "run_control": {
     "frozen": false,
     "read_only": false
    }
   },
   "outputs": [
    {
     "data": {
      "text/html": [
       "<div>\n",
       "<style>\n",
       "    .dataframe thead tr:only-child th {\n",
       "        text-align: right;\n",
       "    }\n",
       "\n",
       "    .dataframe thead th {\n",
       "        text-align: left;\n",
       "    }\n",
       "\n",
       "    .dataframe tbody tr th {\n",
       "        vertical-align: top;\n",
       "    }\n",
       "</style>\n",
       "<table border=\"1\" class=\"dataframe\">\n",
       "  <thead>\n",
       "    <tr style=\"text-align: right;\">\n",
       "      <th></th>\n",
       "      <th>Artist</th>\n",
       "      <th>Nationality</th>\n",
       "      <th>Gender</th>\n",
       "      <th>Date</th>\n",
       "      <th>Department</th>\n",
       "      <th>DateAcquired</th>\n",
       "      <th>URL</th>\n",
       "      <th>ThumbnailURL</th>\n",
       "      <th>Height (cm)</th>\n",
       "      <th>Width (cm)</th>\n",
       "    </tr>\n",
       "  </thead>\n",
       "  <tbody>\n",
       "    <tr>\n",
       "      <th>0</th>\n",
       "      <td>Otto Wagner</td>\n",
       "      <td>(Austrian)</td>\n",
       "      <td>(Male)</td>\n",
       "      <td>1896</td>\n",
       "      <td>Architecture &amp; Design</td>\n",
       "      <td>1996-04-09</td>\n",
       "      <td>True</td>\n",
       "      <td>True</td>\n",
       "      <td>48.6000</td>\n",
       "      <td>168.9000</td>\n",
       "    </tr>\n",
       "    <tr>\n",
       "      <th>1</th>\n",
       "      <td>Christian de Portzamparc</td>\n",
       "      <td>(French)</td>\n",
       "      <td>(Male)</td>\n",
       "      <td>1987</td>\n",
       "      <td>Architecture &amp; Design</td>\n",
       "      <td>1995-01-17</td>\n",
       "      <td>True</td>\n",
       "      <td>True</td>\n",
       "      <td>40.6401</td>\n",
       "      <td>29.8451</td>\n",
       "    </tr>\n",
       "    <tr>\n",
       "      <th>2</th>\n",
       "      <td>Emil Hoppe</td>\n",
       "      <td>(Austrian)</td>\n",
       "      <td>(Male)</td>\n",
       "      <td>1903</td>\n",
       "      <td>Architecture &amp; Design</td>\n",
       "      <td>1997-01-15</td>\n",
       "      <td>True</td>\n",
       "      <td>True</td>\n",
       "      <td>34.3000</td>\n",
       "      <td>31.8000</td>\n",
       "    </tr>\n",
       "    <tr>\n",
       "      <th>3</th>\n",
       "      <td>Bernard Tschumi</td>\n",
       "      <td>()</td>\n",
       "      <td>(Male)</td>\n",
       "      <td>1980</td>\n",
       "      <td>Architecture &amp; Design</td>\n",
       "      <td>1995-01-17</td>\n",
       "      <td>True</td>\n",
       "      <td>True</td>\n",
       "      <td>50.8000</td>\n",
       "      <td>50.8000</td>\n",
       "    </tr>\n",
       "    <tr>\n",
       "      <th>4</th>\n",
       "      <td>Emil Hoppe</td>\n",
       "      <td>(Austrian)</td>\n",
       "      <td>(Male)</td>\n",
       "      <td>1903</td>\n",
       "      <td>Architecture &amp; Design</td>\n",
       "      <td>1997-01-15</td>\n",
       "      <td>True</td>\n",
       "      <td>True</td>\n",
       "      <td>38.4000</td>\n",
       "      <td>19.1000</td>\n",
       "    </tr>\n",
       "  </tbody>\n",
       "</table>\n",
       "</div>"
      ],
      "text/plain": [
       "                     Artist Nationality  Gender  Date             Department  \\\n",
       "0               Otto Wagner  (Austrian)  (Male)  1896  Architecture & Design   \n",
       "1  Christian de Portzamparc    (French)  (Male)  1987  Architecture & Design   \n",
       "2                Emil Hoppe  (Austrian)  (Male)  1903  Architecture & Design   \n",
       "3           Bernard Tschumi          ()  (Male)  1980  Architecture & Design   \n",
       "4                Emil Hoppe  (Austrian)  (Male)  1903  Architecture & Design   \n",
       "\n",
       "  DateAcquired   URL  ThumbnailURL  Height (cm)  Width (cm)  \n",
       "0   1996-04-09  True          True      48.6000    168.9000  \n",
       "1   1995-01-17  True          True      40.6401     29.8451  \n",
       "2   1997-01-15  True          True      34.3000     31.8000  \n",
       "3   1995-01-17  True          True      50.8000     50.8000  \n",
       "4   1997-01-15  True          True      38.4000     19.1000  "
      ]
     },
     "execution_count": 8,
     "metadata": {},
     "output_type": "execute_result"
    }
   ],
   "source": [
    "artworks.head()"
   ]
  },
  {
   "cell_type": "markdown",
   "metadata": {
    "run_control": {
     "frozen": false,
     "read_only": false
    }
   },
   "source": [
    "## Building a Model\n",
    "\n",
    "Now, let's see if we can use multi-layer perceptron modeling (or \"MLP\") to see if we can classify the department a piece should go into using everything but the department name.\n",
    "\n",
    "Before we import MLP from SKLearn and establish the model we first have to ensure correct typing for our data and do some other cleaning."
   ]
  },
  {
   "cell_type": "code",
   "execution_count": 9,
   "metadata": {
    "run_control": {
     "frozen": false,
     "read_only": false
    }
   },
   "outputs": [
    {
     "data": {
      "text/plain": [
       "Artist           object\n",
       "Nationality      object\n",
       "Gender           object\n",
       "Date             object\n",
       "Department       object\n",
       "DateAcquired     object\n",
       "URL                bool\n",
       "ThumbnailURL       bool\n",
       "Height (cm)     float64\n",
       "Width (cm)      float64\n",
       "dtype: object"
      ]
     },
     "execution_count": 9,
     "metadata": {},
     "output_type": "execute_result"
    }
   ],
   "source": [
    "# Get data types.\n",
    "artworks.dtypes"
   ]
  },
  {
   "cell_type": "markdown",
   "metadata": {},
   "source": [
    "The `DateAcquired` column is an object. Let's transform that to a datetime object and add a feature for just the year the artwork was acquired."
   ]
  },
  {
   "cell_type": "code",
   "execution_count": 10,
   "metadata": {
    "run_control": {
     "frozen": false,
     "read_only": false
    }
   },
   "outputs": [
    {
     "data": {
      "text/plain": [
       "dtype('int64')"
      ]
     },
     "execution_count": 10,
     "metadata": {},
     "output_type": "execute_result"
    }
   ],
   "source": [
    "artworks['DateAcquired'] = pd.to_datetime(artworks.DateAcquired)\n",
    "artworks['YearAcquired'] = artworks.DateAcquired.dt.year\n",
    "artworks['YearAcquired'].dtype"
   ]
  },
  {
   "cell_type": "markdown",
   "metadata": {},
   "source": [
    "Great. Let's do some more miscellaneous cleaning."
   ]
  },
  {
   "cell_type": "code",
   "execution_count": null,
   "metadata": {
    "collapsed": true
   },
   "outputs": [],
   "source": []
  },
  {
   "cell_type": "code",
   "execution_count": 11,
   "metadata": {
    "collapsed": true,
    "run_control": {
     "frozen": false,
     "read_only": false
    }
   },
   "outputs": [],
   "source": [
    "# Remove multiple nationalities, genders, and artists.\n",
    "artworks.loc[artworks['Gender'].str.contains('\\) \\('), 'Gender'] = '\\(multiple_persons\\)'\n",
    "artworks.loc[artworks['Nationality'].str.contains('\\) \\('), 'Nationality'] = '\\(multiple_nationalities\\)'\n",
    "artworks.loc[artworks['Artist'].str.contains(','), 'Artist'] = 'Multiple_Artists'\n",
    "\n",
    "# Convert dates to start date, cutting down number of distinct examples.\n",
    "artworks['Date'] = pd.Series(artworks.Date.str.extract(\n",
    "    '([0-9]{4})', expand=False))[:-1]\n",
    "\n",
    "# Final column drops and NA drop.\n",
    "X = artworks.drop(['Department', 'DateAcquired', 'Artist', 'Nationality', 'Date'], 1)\n",
    "\n",
    "# Create dummies separately.\n",
    "artists = pd.get_dummies(artworks.Artist)\n",
    "nationalities = pd.get_dummies(artworks.Nationality)\n",
    "dates = pd.get_dummies(artworks.Date)\n",
    "\n",
    "# Concat artists with other variables\n",
    "X = pd.get_dummies(X, sparse=True)\n",
    "X = pd.concat([X, nationalities, dates], axis=1)\n",
    "\n",
    "Y = artworks.Department"
   ]
  },
  {
   "cell_type": "code",
   "execution_count": 41,
   "metadata": {
    "run_control": {
     "frozen": false,
     "read_only": false
    }
   },
   "outputs": [
    {
     "name": "stderr",
     "output_type": "stream",
     "text": [
      "/home/alliedtoasters/anaconda3/lib/python3.6/site-packages/sklearn/neural_network/multilayer_perceptron.py:565: UserWarning: Training interrupted by user.\n",
      "  warnings.warn(\"Training interrupted by user.\")\n"
     ]
    },
    {
     "data": {
      "text/plain": [
       "MLPClassifier(activation='relu', alpha=0.0001, batch_size='auto', beta_1=0.9,\n",
       "       beta_2=0.999, early_stopping=False, epsilon=1e-08,\n",
       "       hidden_layer_sizes=(1000,), learning_rate='constant',\n",
       "       learning_rate_init=0.001, max_iter=200, momentum=0.9,\n",
       "       nesterovs_momentum=True, power_t=0.5, random_state=None,\n",
       "       shuffle=True, solver='adam', tol=0.0001, validation_fraction=0.1,\n",
       "       verbose=False, warm_start=False)"
      ]
     },
     "execution_count": 41,
     "metadata": {},
     "output_type": "execute_result"
    }
   ],
   "source": [
    "# Alright! We've done our prep, let's build the model.\n",
    "# Neural networks are hugely computationally intensive.\n",
    "# This may take several minutes to run.\n",
    "\n",
    "# Import the model.\n",
    "from sklearn.neural_network import MLPClassifier\n",
    "\n",
    "# Establish and fit the model, with a single, 1000 perceptron layer.\n",
    "mlp = MLPClassifier(hidden_layer_sizes=(1000,))\n",
    "mlp.fit(X, Y)"
   ]
  },
  {
   "cell_type": "code",
   "execution_count": 42,
   "metadata": {
    "run_control": {
     "frozen": false,
     "read_only": false
    }
   },
   "outputs": [
    {
     "data": {
      "text/plain": [
       "0.44894780126747619"
      ]
     },
     "execution_count": 42,
     "metadata": {},
     "output_type": "execute_result"
    }
   ],
   "source": [
    "mlp.score(X, Y)"
   ]
  },
  {
   "cell_type": "code",
   "execution_count": null,
   "metadata": {
    "run_control": {
     "frozen": false,
     "read_only": false
    }
   },
   "outputs": [
    {
     "data": {
      "text/plain": [
       "Prints & Illustrated Books    0.523371\n",
       "Photography                   0.225514\n",
       "Architecture & Design         0.112225\n",
       "Drawings                      0.104233\n",
       "Painting & Sculpture          0.034657\n",
       "Name: Department, dtype: float64"
      ]
     },
     "execution_count": 43,
     "metadata": {},
     "output_type": "execute_result"
    }
   ],
   "source": [
    "Y.value_counts()/len(Y)"
   ]
  },
  {
   "cell_type": "code",
   "execution_count": null,
   "metadata": {
    "run_control": {
     "frozen": false,
     "read_only": false
    }
   },
   "outputs": [
    {
     "name": "stderr",
     "output_type": "stream",
     "text": [
      "/home/alliedtoasters/anaconda3/lib/python3.6/site-packages/sklearn/neural_network/multilayer_perceptron.py:565: UserWarning: Training interrupted by user.\n",
      "  warnings.warn(\"Training interrupted by user.\")\n"
     ]
    }
   ],
   "source": [
    "from sklearn.model_selection import cross_val_score\n",
    "cross_val_score(mlp, X, Y, cv=5)"
   ]
  },
  {
   "cell_type": "markdown",
   "metadata": {
    "run_control": {
     "frozen": false,
     "read_only": false
    }
   },
   "source": [
    "Now we got a lot of information from all of this. Firstly we can see that the model seems to overfit, though there is still so remaining performance when validated with cross validation. This is a feature of neural networks that aren't given enough data for the number of features present. _Neural networks, in general, like_ a lot _of data_. You may also have noticed something also about neural networks: _they can take a_ long _time to run_. Try increasing the layer size by adding a zero. Feel free to interrupt the kernel if you don't have time...\n",
    "\n",
    "Also note that we created bools for artist's name but left them out. Both of the above points are the reason for that. It would take much longer to run and it would be much more prone to overfitting."
   ]
  },
  {
   "cell_type": "markdown",
   "metadata": {
    "collapsed": true,
    "run_control": {
     "frozen": false,
     "read_only": false
    }
   },
   "source": [
    "## Model parameters\n",
    "\n",
    "Now, before we move on and let you loose with some tasks to work on the model, let's go over the parameters.\n",
    "\n",
    "We included one parameter: hidden layer size. Remember in the previous lesson, when we talked about layers in a neural network. This tells us how many and how big to make our layers. Pass in a tuple that specifies each layer's size. Our network is 1000 neurons wide and one layer. (100, 4, ) would create a network with two layers, one 100 wide and the other 4.\n",
    "\n",
    "How many layers to include is determined by two things: computational resources and cross validation searching for convergence. It's generally less than the number of input variables you have.\n",
    "\n",
    "You can also set an alpha. Neural networks like this use a regularization parameter that penalizes large coefficients just like we discussed in the advanced regression section. Alpha scales that penalty.\n",
    "\n",
    "Lastly, we'll discuss the activation function. The activation function determines whether the output from an individual perceptron is binary or continuous. By default this is a binary function ('relu', or 'rectified linear unit function'). In the exercise we went through earlier we used this binary function, but we discussed the _sigmoid_ as a reasonable alternative. The _sigmoid_ (called 'logistic' by SKLearn because it's a 'logistic sigmoid function') allows for continuous variables between 0 and 1, which allows for a more nuanced model. It does come at the cost of increased computational complexity.\n",
    "\n",
    "If you want to learn more about these, study [activation functions](https://en.wikipedia.org/wiki/Activation_function) and [multilayer perceptrons](https://en.wikipedia.org/wiki/Multilayer_perceptron). The [Deep Learning](http://www.deeplearningbook.org/) book referenced earlier goes into great detail on the linear algebra involved.\n",
    "\n",
    "You could also just test the models with cross validation. Unless neural networks are your specialty cross validation should be sufficient.\n",
    "\n",
    "For the other parameters and their defaults, check out the [MLPClassifier documentaiton](http://scikit-learn.org/stable/modules/generated/sklearn.neural_network.MLPClassifier.html#sklearn.neural_network.MLPClassifier)."
   ]
  },
  {
   "cell_type": "markdown",
   "metadata": {},
   "source": [
    "## Drill: Playing with layers\n",
    "\n",
    "Now it's your turn. Using the space below, experiment with different hidden layer structures. You can try this on a subset of the data to improve runtime. See how things vary. See what seems to matter the most. Feel free to manipulate other parameters as well. It may also be beneficial to do some real feature selection work..."
   ]
  },
  {
   "cell_type": "markdown",
   "metadata": {},
   "source": [
    "## For Results Comparison\n",
    "Refer to the <a href='https://github.com/AlliedToasters/neural_nets/blob/master/original_notebook.ipynb'>unaltered copy of the original notebook</a>."
   ]
  },
  {
   "cell_type": "code",
   "execution_count": 12,
   "metadata": {
    "collapsed": true
   },
   "outputs": [],
   "source": [
    "#I read that scaling helps these models...\n",
    "scl = StandardScaler()\n",
    "X0 = scl.fit_transform(X)"
   ]
  },
  {
   "cell_type": "code",
   "execution_count": 16,
   "metadata": {},
   "outputs": [
    {
     "name": "stdout",
     "output_type": "stream",
     "text": [
      "Iteration 1, loss = 0.83011816\n",
      "Validation score: 0.728715\n",
      "Iteration 2, loss = 0.69326821\n",
      "Validation score: 0.752128\n",
      "Iteration 3, loss = 0.64082192\n",
      "Validation score: 0.766351\n",
      "Iteration 4, loss = 0.60608394\n",
      "Validation score: 0.767802\n",
      "Iteration 5, loss = 0.58286666\n",
      "Validation score: 0.764996\n",
      "Iteration 6, loss = 0.56315216\n",
      "Validation score: 0.776316\n",
      "Iteration 7, loss = 0.54932118\n",
      "Validation score: 0.784636\n",
      "Iteration 8, loss = 0.53341563\n",
      "Validation score: 0.783475\n",
      "Iteration 9, loss = 0.51995967\n",
      "Validation score: 0.789377\n",
      "Iteration 10, loss = 0.51408449\n",
      "Validation score: 0.792086\n",
      "Iteration 11, loss = 0.50266070\n",
      "Validation score: 0.793247\n",
      "Iteration 12, loss = 0.49475792\n",
      "Validation score: 0.795472\n",
      "Iteration 13, loss = 0.48261984\n",
      "Validation score: 0.796923\n",
      "Iteration 14, loss = 0.47917479\n",
      "Validation score: 0.796923\n",
      "Iteration 15, loss = 0.47295058\n",
      "Validation score: 0.797891\n",
      "Iteration 16, loss = 0.46498792\n",
      "Validation score: 0.791989\n",
      "Iteration 17, loss = 0.45742647\n",
      "Validation score: 0.799342\n",
      "Iteration 18, loss = 0.45405514\n",
      "Validation score: 0.804373\n",
      "Iteration 19, loss = 0.44994152\n",
      "Validation score: 0.803019\n",
      "Iteration 20, loss = 0.44539260\n",
      "Validation score: 0.807372\n",
      "Iteration 21, loss = 0.43603604\n",
      "Validation score: 0.808824\n",
      "Iteration 22, loss = 0.43329710\n",
      "Validation score: 0.803115\n",
      "Iteration 23, loss = 0.43019768\n",
      "Validation score: 0.809307\n",
      "Iteration 24, loss = 0.42620577\n",
      "Validation score: 0.803889\n",
      "Iteration 25, loss = 0.42306215\n",
      "Validation score: 0.798181\n",
      "Iteration 26, loss = 0.41773488\n",
      "Validation score: 0.807179\n",
      "Validation score did not improve more than tol=0.000000 for two consecutive epochs. Stopping.\n"
     ]
    },
    {
     "data": {
      "text/plain": [
       "MLPClassifier(activation='relu', alpha=0.0001, batch_size='auto', beta_1=0.9,\n",
       "       beta_2=0.999, early_stopping=True, epsilon=1e-08,\n",
       "       hidden_layer_sizes=(1000,), learning_rate='constant',\n",
       "       learning_rate_init=0.001, max_iter=200, momentum=0.9,\n",
       "       nesterovs_momentum=True, power_t=0.5, random_state=None,\n",
       "       shuffle=True, solver='adam', tol=0, validation_fraction=0.1,\n",
       "       verbose=True, warm_start=False)"
      ]
     },
     "execution_count": 16,
     "metadata": {},
     "output_type": "execute_result"
    }
   ],
   "source": [
    "mlp = MLPClassifier(\n",
    "    hidden_layer_sizes=(1000,),\n",
    "    verbose=True,\n",
    "    early_stopping=True,\n",
    "    tol=0,\n",
    ")\n",
    "mlp.fit(X0, Y)"
   ]
  },
  {
   "cell_type": "code",
   "execution_count": 17,
   "metadata": {},
   "outputs": [
    {
     "data": {
      "text/plain": [
       "0.84898650283005173"
      ]
     },
     "execution_count": 17,
     "metadata": {},
     "output_type": "execute_result"
    }
   ],
   "source": [
    "#Just scaling the data helped a LOT.\n",
    "mlp.score(X0, Y)"
   ]
  },
  {
   "cell_type": "code",
   "execution_count": 18,
   "metadata": {},
   "outputs": [
    {
     "name": "stdout",
     "output_type": "stream",
     "text": [
      "Iteration 1, loss = 0.96080836\n",
      "Validation score: 0.681889\n",
      "Iteration 2, loss = 0.75073401\n",
      "Validation score: 0.716622\n",
      "Iteration 3, loss = 0.69546133\n",
      "Validation score: 0.737229\n",
      "Iteration 4, loss = 0.66093641\n",
      "Validation score: 0.742260\n",
      "Iteration 5, loss = 0.63639176\n",
      "Validation score: 0.749903\n",
      "Iteration 6, loss = 0.61744391\n",
      "Validation score: 0.757933\n",
      "Iteration 7, loss = 0.60064089\n",
      "Validation score: 0.764222\n",
      "Iteration 8, loss = 0.58705073\n",
      "Validation score: 0.764803\n",
      "Iteration 9, loss = 0.57539812\n",
      "Validation score: 0.767899\n",
      "Iteration 10, loss = 0.56473560\n",
      "Validation score: 0.766351\n",
      "Iteration 11, loss = 0.55688613\n",
      "Validation score: 0.775348\n",
      "Iteration 12, loss = 0.54916823\n",
      "Validation score: 0.779992\n",
      "Iteration 13, loss = 0.54055924\n",
      "Validation score: 0.780089\n",
      "Iteration 14, loss = 0.53313415\n",
      "Validation score: 0.781734\n",
      "Iteration 15, loss = 0.52717381\n",
      "Validation score: 0.783862\n",
      "Iteration 16, loss = 0.52275895\n",
      "Validation score: 0.777090\n",
      "Iteration 17, loss = 0.51764218\n",
      "Validation score: 0.785797\n",
      "Iteration 18, loss = 0.51249683\n",
      "Validation score: 0.781637\n",
      "Iteration 19, loss = 0.50833254\n",
      "Validation score: 0.787152\n",
      "Iteration 20, loss = 0.50313156\n",
      "Validation score: 0.788119\n",
      "Iteration 21, loss = 0.50025447\n",
      "Validation score: 0.785894\n",
      "Iteration 22, loss = 0.49664372\n",
      "Validation score: 0.788313\n",
      "Iteration 23, loss = 0.49319244\n",
      "Validation score: 0.791602\n",
      "Iteration 24, loss = 0.49132345\n",
      "Validation score: 0.790538\n",
      "Iteration 25, loss = 0.48731798\n",
      "Validation score: 0.790925\n",
      "Iteration 26, loss = 0.48334848\n",
      "Validation score: 0.793440\n",
      "Iteration 27, loss = 0.48191047\n",
      "Validation score: 0.791505\n",
      "Iteration 28, loss = 0.47882900\n",
      "Validation score: 0.794505\n",
      "Iteration 29, loss = 0.47646419\n",
      "Validation score: 0.795279\n",
      "Iteration 30, loss = 0.47454620\n",
      "Validation score: 0.795762\n",
      "Iteration 31, loss = 0.47210318\n",
      "Validation score: 0.793247\n",
      "Iteration 32, loss = 0.47141595\n",
      "Validation score: 0.796246\n",
      "Iteration 33, loss = 0.46784878\n",
      "Validation score: 0.797020\n",
      "Iteration 34, loss = 0.46565791\n",
      "Validation score: 0.796923\n",
      "Iteration 35, loss = 0.46425464\n",
      "Validation score: 0.793731\n",
      "Iteration 36, loss = 0.46162811\n",
      "Validation score: 0.796923\n",
      "Validation score did not improve more than tol=0.000000 for two consecutive epochs. Stopping.\n"
     ]
    },
    {
     "data": {
      "text/plain": [
       "MLPClassifier(activation='relu', alpha=0.0001, batch_size='auto', beta_1=0.9,\n",
       "       beta_2=0.999, early_stopping=True, epsilon=1e-08,\n",
       "       hidden_layer_sizes=(100, 10), learning_rate='constant',\n",
       "       learning_rate_init=0.001, max_iter=200, momentum=0.9,\n",
       "       nesterovs_momentum=True, power_t=0.5, random_state=None,\n",
       "       shuffle=True, solver='adam', tol=0, validation_fraction=0.1,\n",
       "       verbose=True, warm_start=False)"
      ]
     },
     "execution_count": 18,
     "metadata": {},
     "output_type": "execute_result"
    }
   ],
   "source": [
    "#Now let's play with the layers...\n",
    "mlp2 = MLPClassifier(\n",
    "    hidden_layer_sizes=(100, 10), #2 layers deep, less wide for computation time,\n",
    "    verbose=True,\n",
    "    early_stopping=True,\n",
    "    tol=0,\n",
    ")\n",
    "mlp2.fit(X0, Y)"
   ]
  },
  {
   "cell_type": "code",
   "execution_count": 19,
   "metadata": {},
   "outputs": [
    {
     "name": "stdout",
     "output_type": "stream",
     "text": [
      "Iteration 1, loss = 1.08202123\n",
      "Validation score: 0.657217\n",
      "Iteration 2, loss = 0.85859361\n",
      "Validation score: 0.689048\n",
      "Iteration 3, loss = 0.80682748\n",
      "Validation score: 0.699884\n",
      "Iteration 4, loss = 0.78158436\n",
      "Validation score: 0.703173\n",
      "Iteration 5, loss = 0.76585782\n",
      "Validation score: 0.717299\n",
      "Iteration 6, loss = 0.75269529\n",
      "Validation score: 0.717589\n",
      "Iteration 7, loss = 0.73999283\n",
      "Validation score: 0.721943\n",
      "Iteration 8, loss = 0.73074138\n",
      "Validation score: 0.725522\n",
      "Iteration 9, loss = 0.72250554\n",
      "Validation score: 0.729876\n",
      "Iteration 10, loss = 0.71649833\n",
      "Validation score: 0.729973\n",
      "Iteration 11, loss = 0.71143018\n",
      "Validation score: 0.733359\n",
      "Iteration 12, loss = 0.70559037\n",
      "Validation score: 0.736745\n",
      "Iteration 13, loss = 0.70145340\n",
      "Validation score: 0.736745\n",
      "Iteration 14, loss = 0.69720173\n",
      "Validation score: 0.737713\n",
      "Iteration 15, loss = 0.69373687\n",
      "Validation score: 0.738100\n",
      "Iteration 16, loss = 0.69054842\n",
      "Validation score: 0.740132\n",
      "Iteration 17, loss = 0.68710172\n",
      "Validation score: 0.745066\n",
      "Iteration 18, loss = 0.68363598\n",
      "Validation score: 0.742454\n",
      "Iteration 19, loss = 0.68124886\n",
      "Validation score: 0.744582\n",
      "Iteration 20, loss = 0.67888077\n",
      "Validation score: 0.745840\n",
      "Iteration 21, loss = 0.67562545\n",
      "Validation score: 0.745937\n",
      "Iteration 22, loss = 0.67325113\n",
      "Validation score: 0.747098\n",
      "Iteration 23, loss = 0.67239988\n",
      "Validation score: 0.748936\n",
      "Iteration 24, loss = 0.67063141\n",
      "Validation score: 0.747001\n",
      "Iteration 25, loss = 0.66856099\n",
      "Validation score: 0.746904\n",
      "Iteration 26, loss = 0.66702739\n",
      "Validation score: 0.750484\n",
      "Iteration 27, loss = 0.66512276\n",
      "Validation score: 0.746324\n",
      "Iteration 28, loss = 0.66387589\n",
      "Validation score: 0.746904\n",
      "Iteration 29, loss = 0.66116295\n",
      "Validation score: 0.748259\n",
      "Validation score did not improve more than tol=0.000000 for two consecutive epochs. Stopping.\n"
     ]
    },
    {
     "data": {
      "text/plain": [
       "MLPClassifier(activation='relu', alpha=0.0001, batch_size='auto', beta_1=0.9,\n",
       "       beta_2=0.999, early_stopping=True, epsilon=1e-08,\n",
       "       hidden_layer_sizes=(10, 100), learning_rate='constant',\n",
       "       learning_rate_init=0.001, max_iter=200, momentum=0.9,\n",
       "       nesterovs_momentum=True, power_t=0.5, random_state=None,\n",
       "       shuffle=True, solver='adam', tol=0, validation_fraction=0.1,\n",
       "       verbose=True, warm_start=False)"
      ]
     },
     "execution_count": 19,
     "metadata": {},
     "output_type": "execute_result"
    }
   ],
   "source": [
    "#This arrangement did not improve performance, but didn't hurt much either.\n",
    "#Here's another:\n",
    "mlp3 = MLPClassifier(\n",
    "    hidden_layer_sizes=(10, 100,),\n",
    "    verbose=True,\n",
    "    early_stopping=True,\n",
    "    tol=0,\n",
    ")\n",
    "mlp3.fit(X0, Y)"
   ]
  },
  {
   "cell_type": "code",
   "execution_count": 20,
   "metadata": {},
   "outputs": [
    {
     "name": "stdout",
     "output_type": "stream",
     "text": [
      "Iteration 1, loss = 0.86917642\n",
      "Validation score: 0.715654\n",
      "Iteration 2, loss = 0.67586654\n",
      "Validation score: 0.747098\n",
      "Iteration 3, loss = 0.61413401\n",
      "Validation score: 0.766544\n",
      "Iteration 4, loss = 0.57302312\n",
      "Validation score: 0.779218\n",
      "Iteration 5, loss = 0.54044572\n",
      "Validation score: 0.784926\n",
      "Iteration 6, loss = 0.51911872\n",
      "Validation score: 0.798858\n",
      "Iteration 7, loss = 0.49800599\n",
      "Validation score: 0.797407\n",
      "Iteration 8, loss = 0.47987704\n",
      "Validation score: 0.804276\n",
      "Iteration 9, loss = 0.46611884\n",
      "Validation score: 0.808050\n",
      "Iteration 10, loss = 0.45172131\n",
      "Validation score: 0.811533\n",
      "Iteration 11, loss = 0.44209085\n",
      "Validation score: 0.809114\n",
      "Iteration 12, loss = 0.42979313\n",
      "Validation score: 0.812887\n",
      "Iteration 13, loss = 0.42170982\n",
      "Validation score: 0.809888\n",
      "Iteration 14, loss = 0.40963363\n",
      "Validation score: 0.819756\n",
      "Iteration 15, loss = 0.40233513\n",
      "Validation score: 0.818982\n",
      "Iteration 16, loss = 0.39200376\n",
      "Validation score: 0.823046\n",
      "Iteration 17, loss = 0.38480053\n",
      "Validation score: 0.821401\n",
      "Iteration 18, loss = 0.37832358\n",
      "Validation score: 0.824207\n",
      "Iteration 19, loss = 0.37008261\n",
      "Validation score: 0.824690\n",
      "Iteration 20, loss = 0.36489742\n",
      "Validation score: 0.828464\n",
      "Iteration 21, loss = 0.35898550\n",
      "Validation score: 0.827012\n",
      "Iteration 22, loss = 0.35107208\n",
      "Validation score: 0.828173\n",
      "Iteration 23, loss = 0.34617990\n",
      "Validation score: 0.828173\n",
      "Validation score did not improve more than tol=0.000000 for two consecutive epochs. Stopping.\n"
     ]
    },
    {
     "data": {
      "text/plain": [
       "MLPClassifier(activation='relu', alpha=0.0001, batch_size='auto', beta_1=0.9,\n",
       "       beta_2=0.999, early_stopping=True, epsilon=1e-08,\n",
       "       hidden_layer_sizes=(100, 100, 100, 100, 100),\n",
       "       learning_rate='constant', learning_rate_init=0.001, max_iter=200,\n",
       "       momentum=0.9, nesterovs_momentum=True, power_t=0.5,\n",
       "       random_state=None, shuffle=True, solver='adam', tol=0,\n",
       "       validation_fraction=0.1, verbose=True, warm_start=False)"
      ]
     },
     "execution_count": 20,
     "metadata": {},
     "output_type": "execute_result"
    }
   ],
   "source": [
    "#Oof, even worse. Finally:\n",
    "mlp4 = MLPClassifier(\n",
    "    hidden_layer_sizes=(100, 100, 100, 100, 100), #Going deep!\n",
    "    verbose=True,\n",
    "    early_stopping=True,\n",
    "    tol=0,\n",
    ")\n",
    "mlp4.fit(X0, Y)"
   ]
  },
  {
   "cell_type": "code",
   "execution_count": 21,
   "metadata": {},
   "outputs": [
    {
     "data": {
      "text/plain": [
       "0.87463596342702332"
      ]
     },
     "execution_count": 21,
     "metadata": {},
     "output_type": "execute_result"
    }
   ],
   "source": [
    "#This iteration has done the best (Note this score includes training data)\n",
    "mlp4.score(X0, Y)"
   ]
  },
  {
   "cell_type": "code",
   "execution_count": 35,
   "metadata": {},
   "outputs": [
    {
     "data": {
      "text/plain": [
       "168.90000000000001"
      ]
     },
     "execution_count": 35,
     "metadata": {},
     "output_type": "execute_result"
    }
   ],
   "source": [
    "X['Width (cm)'].loc[0]"
   ]
  },
  {
   "cell_type": "code",
   "execution_count": 39,
   "metadata": {},
   "outputs": [],
   "source": [
    "dims = list(artworks.loc[X.index].columns[-9:])\n",
    "dims.remove('Height (cm)')\n",
    "dims.remove('Width (cm)')\n",
    "for dim in dims:\n",
    "    X[dim] = np.where(artworks[dim].loc[X.index].notnull(), artworks[dim].loc[X.index], 0)"
   ]
  },
  {
   "cell_type": "code",
   "execution_count": 40,
   "metadata": {},
   "outputs": [],
   "source": [
    "scl5 = StandardScaler()\n",
    "X5 = scl5.fit_transform(X)"
   ]
  },
  {
   "cell_type": "code",
   "execution_count": 49,
   "metadata": {},
   "outputs": [
    {
     "name": "stdout",
     "output_type": "stream",
     "text": [
      "Iteration 1, loss = 0.93129795\n",
      "Validation score: 0.720491\n",
      "Iteration 2, loss = 0.69039451\n",
      "Validation score: 0.752612\n",
      "Iteration 3, loss = 0.62663965\n",
      "Validation score: 0.761997\n",
      "Iteration 4, loss = 0.58841403\n",
      "Validation score: 0.788796\n",
      "Iteration 5, loss = 0.55665391\n",
      "Validation score: 0.790925\n",
      "Iteration 6, loss = 0.53339074\n",
      "Validation score: 0.795762\n",
      "Iteration 7, loss = 0.51262899\n",
      "Validation score: 0.805824\n",
      "Iteration 8, loss = 0.49630070\n",
      "Validation score: 0.805534\n",
      "Iteration 9, loss = 0.48130418\n",
      "Validation score: 0.809211\n",
      "Iteration 10, loss = 0.46812858\n",
      "Validation score: 0.814338\n",
      "Iteration 11, loss = 0.45500033\n",
      "Validation score: 0.816080\n",
      "Iteration 12, loss = 0.44581472\n",
      "Validation score: 0.817337\n",
      "Iteration 13, loss = 0.43663355\n",
      "Validation score: 0.825271\n",
      "Iteration 14, loss = 0.42586110\n",
      "Validation score: 0.814435\n",
      "Iteration 15, loss = 0.41795237\n",
      "Validation score: 0.824207\n",
      "Iteration 16, loss = 0.41001509\n",
      "Validation score: 0.820143\n",
      "Validation score did not improve more than tol=0.000000 for two consecutive epochs. Stopping.\n"
     ]
    },
    {
     "data": {
      "text/plain": [
       "0.84981858642542696"
      ]
     },
     "execution_count": 49,
     "metadata": {},
     "output_type": "execute_result"
    }
   ],
   "source": [
    "mlp5 = MLPClassifier(\n",
    "    hidden_layer_sizes=(100, 100, 100, 100, 100), #Same everything\n",
    "    verbose=True,\n",
    "    early_stopping=True,\n",
    "    tol=0,\n",
    "    random_state=123,\n",
    "    learning_rate_init=.0005,\n",
    "    alpha=.001\n",
    ")\n",
    "mlp5.fit(X5, Y)\n",
    "mlp5.score(X5, Y)"
   ]
  },
  {
   "cell_type": "code",
   "execution_count": 46,
   "metadata": {},
   "outputs": [
    {
     "data": {
      "text/plain": [
       "0.8814861400029026"
      ]
     },
     "execution_count": 46,
     "metadata": {},
     "output_type": "execute_result"
    }
   ],
   "source": [
    "mlp5.score(X5, Y)"
   ]
  },
  {
   "cell_type": "markdown",
   "metadata": {},
   "source": [
    "## Results\n",
    "Without any adding or removing any features, I was able to massively improve performance by simply scaling the inputs. I got some improvements in performance by increasing the depth to 5 layers each 100 neurons wide.\n",
    "Due to limited computation time and power, I was unable to run a full k-fold validation on each. However, the performance based on the SKlearn implimentation's built-in holdout validation group indicates a ~82% accuracy on the validation set.<br>\n",
    "## Other Attempts\n",
    "I also tried messing with the features but I got little traction with this approach. That work is here below:"
   ]
  },
  {
   "cell_type": "code",
   "execution_count": 9,
   "metadata": {
    "collapsed": true
   },
   "outputs": [],
   "source": [
    "art = pd.read_csv('art_data.csv')\n",
    "art = art[art.Department.notnull()]\n",
    "# Convert URL's to booleans.\n",
    "art['URL'] = art['URL'].notnull()\n",
    "art['ThumbnailURL'] = art['ThumbnailURL'].notnull()\n",
    "\n",
    "# Drop films and some other tricky rows.\n",
    "art = art[art['Department']!='Film']\n",
    "art = art[art['Department']!='Media and Performance Art']\n",
    "art = art[art['Department']!='Fluxus Collection']\n",
    "\n",
    "\n",
    "#Look at unique departments.\n",
    "art.Department.unique()\n",
    "\n",
    "scl1 = StandardScaler()"
   ]
  },
  {
   "cell_type": "code",
   "execution_count": 10,
   "metadata": {},
   "outputs": [
    {
     "data": {
      "text/plain": [
       "Index(['Title', 'Artist', 'ConstituentID', 'ArtistBio', 'Nationality',\n",
       "       'BeginDate', 'EndDate', 'Gender', 'Date', 'Medium', 'Dimensions',\n",
       "       'CreditLine', 'AccessionNumber', 'Classification', 'Department',\n",
       "       'DateAcquired', 'Cataloged', 'ObjectID', 'URL', 'ThumbnailURL',\n",
       "       'Circumference (cm)', 'Depth (cm)', 'Diameter (cm)', 'Height (cm)',\n",
       "       'Length (cm)', 'Weight (kg)', 'Width (cm)', 'Seat Height (cm)',\n",
       "       'Duration (sec.)'],\n",
       "      dtype='object')"
      ]
     },
     "execution_count": 10,
     "metadata": {},
     "output_type": "execute_result"
    }
   ],
   "source": [
    "#Which columns matter most?\n",
    "art.columns"
   ]
  },
  {
   "cell_type": "code",
   "execution_count": 11,
   "metadata": {},
   "outputs": [
    {
     "data": {
      "text/plain": [
       "['Circumference (cm)',\n",
       " 'Depth (cm)',\n",
       " 'Diameter (cm)',\n",
       " 'Height (cm)',\n",
       " 'Length (cm)',\n",
       " 'Weight (kg)',\n",
       " 'Width (cm)',\n",
       " 'Seat Height (cm)',\n",
       " 'Duration (sec.)']"
      ]
     },
     "execution_count": 11,
     "metadata": {},
     "output_type": "execute_result"
    }
   ],
   "source": [
    "#I say, \"Look at the art.\" The physical dimensions give the most information.\n",
    "physical = list(art.columns[-9:])\n",
    "physical"
   ]
  },
  {
   "cell_type": "code",
   "execution_count": 12,
   "metadata": {},
   "outputs": [
    {
     "name": "stdout",
     "output_type": "stream",
     "text": [
      "   Circumference (cm)  Depth (cm)  Diameter (cm)  Height (cm)  Length (cm)  \\\n",
      "0                 0.0         0.0            0.0      48.6000          0.0   \n",
      "1                 0.0         0.0            0.0      40.6401          0.0   \n",
      "2                 0.0         0.0            0.0      34.3000          0.0   \n",
      "3                 0.0         0.0            0.0      50.8000          0.0   \n",
      "4                 0.0         0.0            0.0      38.4000          0.0   \n",
      "\n",
      "   Weight (kg)  Width (cm)  Seat Height (cm)  Duration (sec.)  \n",
      "0          0.0    168.9000               0.0              0.0  \n",
      "1          0.0     29.8451               0.0              0.0  \n",
      "2          0.0     31.8000               0.0              0.0  \n",
      "3          0.0     50.8000               0.0              0.0  \n",
      "4          0.0     19.1000               0.0              0.0  \n"
     ]
    }
   ],
   "source": [
    "#Let's try just using these features.\n",
    "Y = art.Department\n",
    "X = pd.DataFrame(index=art.index, columns=physical)\n",
    "for phys in physical:\n",
    "    X[phys] = np.where(art[phys].notnull(), art[phys], False)\n",
    "\n",
    "print(X.head())\n",
    "X1 = scl1.fit_transform(X)"
   ]
  },
  {
   "cell_type": "code",
   "execution_count": 8,
   "metadata": {},
   "outputs": [
    {
     "name": "stdout",
     "output_type": "stream",
     "text": [
      "Iteration 1, loss = 1.16031055\n",
      "Validation score: 0.542477\n",
      "Iteration 2, loss = 1.12087840\n",
      "Validation score: 0.561517\n",
      "Iteration 3, loss = 1.11065476\n",
      "Validation score: 0.555547\n",
      "Iteration 4, loss = 1.10459042\n",
      "Validation score: 0.565309\n",
      "Iteration 5, loss = 1.09814529\n",
      "Validation score: 0.553288\n",
      "Iteration 6, loss = 1.09408662\n",
      "Validation score: 0.567406\n",
      "Iteration 7, loss = 1.08956612\n",
      "Validation score: 0.566438\n",
      "Iteration 8, loss = 1.09074215\n",
      "Validation score: 0.565147\n",
      "Iteration 9, loss = 1.08529991\n",
      "Validation score: 0.566519\n",
      "Validation score did not improve more than tol=0.000000 for two consecutive epochs. Stopping.\n"
     ]
    },
    {
     "data": {
      "text/plain": [
       "0.57101594268379263"
      ]
     },
     "execution_count": 8,
     "metadata": {},
     "output_type": "execute_result"
    }
   ],
   "source": [
    "mlp = MLPClassifier(\n",
    "    hidden_layer_sizes=(100, 10,), \n",
    "    verbose=True,\n",
    "    early_stopping=True,\n",
    "    validation_fraction=.1,\n",
    "    learning_rate_init=.01,\n",
    "    tol=0\n",
    ")\n",
    "mlp.fit(X1, Y)\n",
    "mlp.score(X1, Y) #Not great. Adding more features."
   ]
  },
  {
   "cell_type": "code",
   "execution_count": 40,
   "metadata": {},
   "outputs": [
    {
     "data": {
      "text/plain": [
       "0.58446556509391334"
      ]
     },
     "execution_count": 40,
     "metadata": {},
     "output_type": "execute_result"
    }
   ],
   "source": [
    "mlp.score(X, Y) #Not great. Add more features."
   ]
  },
  {
   "cell_type": "code",
   "execution_count": 14,
   "metadata": {
    "collapsed": true
   },
   "outputs": [],
   "source": [
    "#Add year\n",
    "X['Date'] = pd.Series(art.Date.str.extract(\n",
    "    '([0-9]{4})', expand=False))[:-1]\n",
    "\n",
    "X.Date = np.where(X.Date.isnull(), 0, X.Date)\n",
    "scl2 = StandardScaler()\n",
    "X2 = scl2.fit_transform(X)"
   ]
  },
  {
   "cell_type": "code",
   "execution_count": 26,
   "metadata": {},
   "outputs": [
    {
     "name": "stdout",
     "output_type": "stream",
     "text": [
      "Iteration 1, loss = 1.19715280\n",
      "Validation score: 0.537878\n",
      "Iteration 2, loss = 1.07707870\n",
      "Validation score: 0.588463\n",
      "Iteration 3, loss = 1.03347589\n",
      "Validation score: 0.608713\n",
      "Iteration 4, loss = 1.00941385\n",
      "Validation score: 0.624203\n",
      "Iteration 5, loss = 0.99472871\n",
      "Validation score: 0.619201\n",
      "Iteration 6, loss = 0.98631170\n",
      "Validation score: 0.625978\n",
      "Iteration 7, loss = 0.97610923\n",
      "Validation score: 0.628883\n",
      "Iteration 8, loss = 0.97021285\n",
      "Validation score: 0.626543\n",
      "Iteration 9, loss = 0.96496611\n",
      "Validation score: 0.629044\n",
      "Iteration 10, loss = 0.96061902\n",
      "Validation score: 0.627350\n",
      "Iteration 11, loss = 0.95571112\n",
      "Validation score: 0.633643\n",
      "Iteration 12, loss = 0.95217397\n",
      "Validation score: 0.633885\n",
      "Iteration 13, loss = 0.94881659\n",
      "Validation score: 0.634853\n",
      "Iteration 14, loss = 0.94750888\n",
      "Validation score: 0.638322\n",
      "Iteration 15, loss = 0.94347941\n",
      "Validation score: 0.640258\n",
      "Iteration 16, loss = 0.94024984\n",
      "Validation score: 0.637676\n",
      "Iteration 17, loss = 0.93729695\n",
      "Validation score: 0.641468\n",
      "Iteration 18, loss = 0.93574373\n",
      "Validation score: 0.639129\n",
      "Iteration 19, loss = 0.93341090\n",
      "Validation score: 0.640258\n",
      "Iteration 20, loss = 0.93019772\n",
      "Validation score: 0.645825\n",
      "Iteration 21, loss = 0.93047696\n",
      "Validation score: 0.645422\n",
      "Iteration 22, loss = 0.92790150\n",
      "Validation score: 0.651795\n",
      "Iteration 23, loss = 0.92638036\n",
      "Validation score: 0.650504\n",
      "Iteration 24, loss = 0.92430352\n",
      "Validation score: 0.642921\n",
      "Iteration 25, loss = 0.92234247\n",
      "Validation score: 0.647842\n",
      "Validation score did not improve more than tol=0.000000 for two consecutive epochs. Stopping.\n"
     ]
    },
    {
     "data": {
      "text/plain": [
       "0.65622377848060409"
      ]
     },
     "execution_count": 26,
     "metadata": {},
     "output_type": "execute_result"
    }
   ],
   "source": [
    "mlp = MLPClassifier(\n",
    "    hidden_layer_sizes=(100, 10, 100), \n",
    "    verbose=True,\n",
    "    early_stopping=True,\n",
    "    validation_fraction=.1,\n",
    "    learning_rate_init=.001,\n",
    "    tol=0,\n",
    "    #solver = 'sgd',\n",
    "    #activation = 'logistic',\n",
    "    #learning_rate='adaptive',\n",
    "    random_state=123\n",
    ")\n",
    "mlp.fit(X2, Y)\n",
    "mlp.score(X2, Y)"
   ]
  },
  {
   "cell_type": "code",
   "execution_count": 29,
   "metadata": {},
   "outputs": [
    {
     "name": "stdout",
     "output_type": "stream",
     "text": [
      "Iteration 1, loss = 1.25158789\n",
      "Validation score: 0.542759\n",
      "Iteration 2, loss = 1.11810827\n",
      "Validation score: 0.567971\n",
      "Iteration 3, loss = 1.07884865\n",
      "Validation score: 0.588544\n",
      "Iteration 4, loss = 1.05404848\n",
      "Validation score: 0.595704\n",
      "Iteration 5, loss = 1.03570319\n",
      "Validation score: 0.598628\n",
      "Iteration 6, loss = 1.02289195\n",
      "Validation score: 0.595099\n",
      "Iteration 7, loss = 1.01330919\n",
      "Validation score: 0.609419\n",
      "Iteration 8, loss = 1.00579035\n",
      "Validation score: 0.614966\n",
      "Iteration 9, loss = 0.99766252\n",
      "Validation score: 0.609520\n",
      "Iteration 10, loss = 0.99147373\n",
      "Validation score: 0.606495\n",
      "Iteration 11, loss = 0.98786230\n",
      "Validation score: 0.619907\n",
      "Iteration 12, loss = 0.98413329\n",
      "Validation score: 0.622630\n",
      "Iteration 13, loss = 0.98106727\n",
      "Validation score: 0.620311\n",
      "Iteration 14, loss = 0.97750994\n",
      "Validation score: 0.617386\n",
      "Iteration 15, loss = 0.97576583\n",
      "Validation score: 0.625958\n",
      "Iteration 16, loss = 0.97299362\n",
      "Validation score: 0.622227\n",
      "Iteration 17, loss = 0.96976023\n",
      "Validation score: 0.623941\n",
      "Iteration 18, loss = 0.96939312\n",
      "Validation score: 0.628278\n",
      "Iteration 19, loss = 0.96616507\n",
      "Validation score: 0.627975\n",
      "Iteration 20, loss = 0.96368108\n",
      "Validation score: 0.625353\n",
      "Iteration 21, loss = 0.96198165\n",
      "Validation score: 0.629992\n",
      "Iteration 22, loss = 0.96145143\n",
      "Validation score: 0.632211\n",
      "Iteration 23, loss = 0.95797598\n",
      "Validation score: 0.630900\n",
      "Iteration 24, loss = 0.95790566\n",
      "Validation score: 0.631404\n",
      "Iteration 25, loss = 0.95600896\n",
      "Validation score: 0.634732\n",
      "Iteration 26, loss = 0.95396051\n",
      "Validation score: 0.629790\n",
      "Iteration 27, loss = 0.95344468\n",
      "Validation score: 0.631101\n",
      "Iteration 28, loss = 0.95272607\n",
      "Validation score: 0.621924\n",
      "Validation score did not improve more than tol=0.000000 for two consecutive epochs. Stopping.\n",
      "Iteration 1, loss = 1.21224726\n",
      "Validation score: 0.579972\n",
      "Iteration 2, loss = 1.07528371\n",
      "Validation score: 0.600242\n",
      "Iteration 3, loss = 1.03719090\n",
      "Validation score: 0.624849\n",
      "Iteration 4, loss = 1.01398170\n",
      "Validation score: 0.626866\n",
      "Iteration 5, loss = 1.00090002\n",
      "Validation score: 0.636850\n",
      "Iteration 6, loss = 0.98759269\n",
      "Validation score: 0.646430\n",
      "Iteration 7, loss = 0.98052772\n",
      "Validation score: 0.644917\n",
      "Iteration 8, loss = 0.97149938\n",
      "Validation score: 0.633925\n",
      "Iteration 9, loss = 0.96568279\n",
      "Validation score: 0.646027\n",
      "Validation score did not improve more than tol=0.000000 for two consecutive epochs. Stopping.\n",
      "Iteration 1, loss = 1.20738891\n",
      "Validation score: 0.600645\n",
      "Iteration 2, loss = 1.06411823\n",
      "Validation score: 0.611134\n",
      "Iteration 3, loss = 1.01808553\n",
      "Validation score: 0.632110\n",
      "Iteration 4, loss = 0.98946333\n",
      "Validation score: 0.652178\n",
      "Iteration 5, loss = 0.97203968\n",
      "Validation score: 0.654498\n",
      "Iteration 6, loss = 0.96054424\n",
      "Validation score: 0.659742\n",
      "Iteration 7, loss = 0.95195040\n",
      "Validation score: 0.663473\n",
      "Iteration 8, loss = 0.94481387\n",
      "Validation score: 0.664885\n",
      "Iteration 9, loss = 0.94079033\n",
      "Validation score: 0.663473\n",
      "Iteration 10, loss = 0.93514119\n",
      "Validation score: 0.662566\n",
      "Iteration 11, loss = 0.93293070\n",
      "Validation score: 0.664683\n",
      "Validation score did not improve more than tol=0.000000 for two consecutive epochs. Stopping.\n",
      "Iteration 1, loss = 1.21255593\n",
      "Validation score: 0.589855\n",
      "Iteration 2, loss = 1.08004720\n",
      "Validation score: 0.599536\n",
      "Iteration 3, loss = 1.03226294\n",
      "Validation score: 0.631505\n",
      "Iteration 4, loss = 1.00488044\n",
      "Validation score: 0.642598\n",
      "Iteration 5, loss = 0.98924679\n",
      "Validation score: 0.645623\n",
      "Iteration 6, loss = 0.97771582\n",
      "Validation score: 0.650061\n",
      "Iteration 7, loss = 0.97129424\n",
      "Validation score: 0.647842\n",
      "Iteration 8, loss = 0.96400966\n",
      "Validation score: 0.651372\n",
      "Iteration 9, loss = 0.95890453\n",
      "Validation score: 0.654296\n",
      "Iteration 10, loss = 0.95325505\n",
      "Validation score: 0.655204\n",
      "Iteration 11, loss = 0.95042573\n",
      "Validation score: 0.653893\n",
      "Iteration 12, loss = 0.94658956\n",
      "Validation score: 0.653187\n",
      "Iteration 13, loss = 0.94296916\n",
      "Validation score: 0.653994\n",
      "Validation score did not improve more than tol=0.000000 for two consecutive epochs. Stopping.\n",
      "Iteration 1, loss = 1.19826916\n",
      "Validation score: 0.580173\n",
      "Iteration 2, loss = 1.06908170\n",
      "Validation score: 0.604074\n",
      "Iteration 3, loss = 1.03396399\n",
      "Validation score: 0.613554\n",
      "Iteration 4, loss = 1.00269957\n",
      "Validation score: 0.632715\n",
      "Iteration 5, loss = 0.98300533\n",
      "Validation score: 0.639068\n",
      "Iteration 6, loss = 0.96955767\n",
      "Validation score: 0.640480\n",
      "Iteration 7, loss = 0.95791695\n",
      "Validation score: 0.642598\n",
      "Iteration 8, loss = 0.94846768\n",
      "Validation score: 0.651069\n",
      "Iteration 9, loss = 0.94006515\n",
      "Validation score: 0.649153\n",
      "Iteration 10, loss = 0.93365113\n",
      "Validation score: 0.650565\n",
      "Iteration 11, loss = 0.92870786\n",
      "Validation score: 0.653893\n",
      "Iteration 12, loss = 0.92332424\n",
      "Validation score: 0.652582\n",
      "Iteration 13, loss = 0.91873853\n",
      "Validation score: 0.652380\n",
      "Iteration 14, loss = 0.91541439\n",
      "Validation score: 0.657624\n",
      "Iteration 15, loss = 0.91266898\n",
      "Validation score: 0.660851\n",
      "Iteration 16, loss = 0.90913691\n",
      "Validation score: 0.658431\n",
      "Iteration 17, loss = 0.90770011\n",
      "Validation score: 0.646833\n",
      "Iteration 18, loss = 0.90470668\n",
      "Validation score: 0.658330\n",
      "Validation score did not improve more than tol=0.000000 for two consecutive epochs. Stopping.\n"
     ]
    },
    {
     "data": {
      "text/plain": [
       "array([ 0.56937722,  0.5763211 ,  0.56224786,  0.57092141,  0.58125555])"
      ]
     },
     "execution_count": 29,
     "metadata": {},
     "output_type": "execute_result"
    }
   ],
   "source": [
    "cross_val_score(mlp, X2, Y, cv=5)"
   ]
  },
  {
   "cell_type": "code",
   "execution_count": 45,
   "metadata": {},
   "outputs": [
    {
     "ename": "ValueError",
     "evalue": "cannot index with vector containing NA / NaN values",
     "output_type": "error",
     "traceback": [
      "\u001b[0;31m---------------------------------------------------------------------------\u001b[0m",
      "\u001b[0;31mValueError\u001b[0m                                Traceback (most recent call last)",
      "\u001b[0;32m<ipython-input-45-f57564ffe0e9>\u001b[0m in \u001b[0;36m<module>\u001b[0;34m()\u001b[0m\n\u001b[0;32m----> 1\u001b[0;31m \u001b[0mart\u001b[0m\u001b[0;34m.\u001b[0m\u001b[0mloc\u001b[0m\u001b[0;34m[\u001b[0m\u001b[0mart\u001b[0m\u001b[0;34m[\u001b[0m\u001b[0;34m'Gender'\u001b[0m\u001b[0;34m]\u001b[0m\u001b[0;34m.\u001b[0m\u001b[0mstr\u001b[0m\u001b[0;34m.\u001b[0m\u001b[0mcontains\u001b[0m\u001b[0;34m(\u001b[0m\u001b[0;34m'\\) \\('\u001b[0m\u001b[0;34m)\u001b[0m\u001b[0;34m,\u001b[0m \u001b[0;34m'Gender'\u001b[0m\u001b[0;34m]\u001b[0m \u001b[0;34m=\u001b[0m \u001b[0;34m'\\(multiple_persons\\)'\u001b[0m\u001b[0;34m\u001b[0m\u001b[0m\n\u001b[0m\u001b[1;32m      2\u001b[0m \u001b[0mart\u001b[0m\u001b[0;34m.\u001b[0m\u001b[0mloc\u001b[0m\u001b[0;34m[\u001b[0m\u001b[0mart\u001b[0m\u001b[0;34m[\u001b[0m\u001b[0;34m'Nationality'\u001b[0m\u001b[0;34m]\u001b[0m\u001b[0;34m.\u001b[0m\u001b[0mstr\u001b[0m\u001b[0;34m.\u001b[0m\u001b[0mcontains\u001b[0m\u001b[0;34m(\u001b[0m\u001b[0;34m'\\) \\('\u001b[0m\u001b[0;34m)\u001b[0m\u001b[0;34m,\u001b[0m \u001b[0;34m'Nationality'\u001b[0m\u001b[0;34m]\u001b[0m \u001b[0;34m=\u001b[0m \u001b[0;34m'\\(multiple_nationalities\\)'\u001b[0m\u001b[0;34m\u001b[0m\u001b[0m\n\u001b[1;32m      3\u001b[0m \u001b[0mart\u001b[0m\u001b[0;34m.\u001b[0m\u001b[0mloc\u001b[0m\u001b[0;34m[\u001b[0m\u001b[0mart\u001b[0m\u001b[0;34m[\u001b[0m\u001b[0;34m'Artist'\u001b[0m\u001b[0;34m]\u001b[0m\u001b[0;34m.\u001b[0m\u001b[0mstr\u001b[0m\u001b[0;34m.\u001b[0m\u001b[0mcontains\u001b[0m\u001b[0;34m(\u001b[0m\u001b[0;34m','\u001b[0m\u001b[0;34m)\u001b[0m\u001b[0;34m,\u001b[0m \u001b[0;34m'Artist'\u001b[0m\u001b[0;34m]\u001b[0m \u001b[0;34m=\u001b[0m \u001b[0;34m'Multiple_Artists'\u001b[0m\u001b[0;34m\u001b[0m\u001b[0m\n",
      "\u001b[0;32m/home/alliedtoasters/anaconda3/lib/python3.6/site-packages/pandas/core/indexing.py\u001b[0m in \u001b[0;36m__setitem__\u001b[0;34m(self, key, value)\u001b[0m\n\u001b[1;32m    176\u001b[0m         \u001b[0;32melse\u001b[0m\u001b[0;34m:\u001b[0m\u001b[0;34m\u001b[0m\u001b[0m\n\u001b[1;32m    177\u001b[0m             \u001b[0mkey\u001b[0m \u001b[0;34m=\u001b[0m \u001b[0mcom\u001b[0m\u001b[0;34m.\u001b[0m\u001b[0m_apply_if_callable\u001b[0m\u001b[0;34m(\u001b[0m\u001b[0mkey\u001b[0m\u001b[0;34m,\u001b[0m \u001b[0mself\u001b[0m\u001b[0;34m.\u001b[0m\u001b[0mobj\u001b[0m\u001b[0;34m)\u001b[0m\u001b[0;34m\u001b[0m\u001b[0m\n\u001b[0;32m--> 178\u001b[0;31m         \u001b[0mindexer\u001b[0m \u001b[0;34m=\u001b[0m \u001b[0mself\u001b[0m\u001b[0;34m.\u001b[0m\u001b[0m_get_setitem_indexer\u001b[0m\u001b[0;34m(\u001b[0m\u001b[0mkey\u001b[0m\u001b[0;34m)\u001b[0m\u001b[0;34m\u001b[0m\u001b[0m\n\u001b[0m\u001b[1;32m    179\u001b[0m         \u001b[0mself\u001b[0m\u001b[0;34m.\u001b[0m\u001b[0m_setitem_with_indexer\u001b[0m\u001b[0;34m(\u001b[0m\u001b[0mindexer\u001b[0m\u001b[0;34m,\u001b[0m \u001b[0mvalue\u001b[0m\u001b[0;34m)\u001b[0m\u001b[0;34m\u001b[0m\u001b[0m\n\u001b[1;32m    180\u001b[0m \u001b[0;34m\u001b[0m\u001b[0m\n",
      "\u001b[0;32m/home/alliedtoasters/anaconda3/lib/python3.6/site-packages/pandas/core/indexing.py\u001b[0m in \u001b[0;36m_get_setitem_indexer\u001b[0;34m(self, key)\u001b[0m\n\u001b[1;32m    155\u001b[0m         \u001b[0;32mif\u001b[0m \u001b[0misinstance\u001b[0m\u001b[0;34m(\u001b[0m\u001b[0mkey\u001b[0m\u001b[0;34m,\u001b[0m \u001b[0mtuple\u001b[0m\u001b[0;34m)\u001b[0m\u001b[0;34m:\u001b[0m\u001b[0;34m\u001b[0m\u001b[0m\n\u001b[1;32m    156\u001b[0m             \u001b[0;32mtry\u001b[0m\u001b[0;34m:\u001b[0m\u001b[0;34m\u001b[0m\u001b[0m\n\u001b[0;32m--> 157\u001b[0;31m                 \u001b[0;32mreturn\u001b[0m \u001b[0mself\u001b[0m\u001b[0;34m.\u001b[0m\u001b[0m_convert_tuple\u001b[0m\u001b[0;34m(\u001b[0m\u001b[0mkey\u001b[0m\u001b[0;34m,\u001b[0m \u001b[0mis_setter\u001b[0m\u001b[0;34m=\u001b[0m\u001b[0;32mTrue\u001b[0m\u001b[0;34m)\u001b[0m\u001b[0;34m\u001b[0m\u001b[0m\n\u001b[0m\u001b[1;32m    158\u001b[0m             \u001b[0;32mexcept\u001b[0m \u001b[0mIndexingError\u001b[0m\u001b[0;34m:\u001b[0m\u001b[0;34m\u001b[0m\u001b[0m\n\u001b[1;32m    159\u001b[0m                 \u001b[0;32mpass\u001b[0m\u001b[0;34m\u001b[0m\u001b[0m\n",
      "\u001b[0;32m/home/alliedtoasters/anaconda3/lib/python3.6/site-packages/pandas/core/indexing.py\u001b[0m in \u001b[0;36m_convert_tuple\u001b[0;34m(self, key, is_setter)\u001b[0m\n\u001b[1;32m    222\u001b[0m                 \u001b[0;32mif\u001b[0m \u001b[0mi\u001b[0m \u001b[0;34m>=\u001b[0m \u001b[0mself\u001b[0m\u001b[0;34m.\u001b[0m\u001b[0mobj\u001b[0m\u001b[0;34m.\u001b[0m\u001b[0mndim\u001b[0m\u001b[0;34m:\u001b[0m\u001b[0;34m\u001b[0m\u001b[0m\n\u001b[1;32m    223\u001b[0m                     \u001b[0;32mraise\u001b[0m \u001b[0mIndexingError\u001b[0m\u001b[0;34m(\u001b[0m\u001b[0;34m'Too many indexers'\u001b[0m\u001b[0;34m)\u001b[0m\u001b[0;34m\u001b[0m\u001b[0m\n\u001b[0;32m--> 224\u001b[0;31m                 \u001b[0midx\u001b[0m \u001b[0;34m=\u001b[0m \u001b[0mself\u001b[0m\u001b[0;34m.\u001b[0m\u001b[0m_convert_to_indexer\u001b[0m\u001b[0;34m(\u001b[0m\u001b[0mk\u001b[0m\u001b[0;34m,\u001b[0m \u001b[0maxis\u001b[0m\u001b[0;34m=\u001b[0m\u001b[0mi\u001b[0m\u001b[0;34m,\u001b[0m \u001b[0mis_setter\u001b[0m\u001b[0;34m=\u001b[0m\u001b[0mis_setter\u001b[0m\u001b[0;34m)\u001b[0m\u001b[0;34m\u001b[0m\u001b[0m\n\u001b[0m\u001b[1;32m    225\u001b[0m                 \u001b[0mkeyidx\u001b[0m\u001b[0;34m.\u001b[0m\u001b[0mappend\u001b[0m\u001b[0;34m(\u001b[0m\u001b[0midx\u001b[0m\u001b[0;34m)\u001b[0m\u001b[0;34m\u001b[0m\u001b[0m\n\u001b[1;32m    226\u001b[0m         \u001b[0;32mreturn\u001b[0m \u001b[0mtuple\u001b[0m\u001b[0;34m(\u001b[0m\u001b[0mkeyidx\u001b[0m\u001b[0;34m)\u001b[0m\u001b[0;34m\u001b[0m\u001b[0m\n",
      "\u001b[0;32m/home/alliedtoasters/anaconda3/lib/python3.6/site-packages/pandas/core/indexing.py\u001b[0m in \u001b[0;36m_convert_to_indexer\u001b[0;34m(self, obj, axis, is_setter)\u001b[0m\n\u001b[1;32m   1202\u001b[0m         \u001b[0;32melif\u001b[0m \u001b[0mis_list_like_indexer\u001b[0m\u001b[0;34m(\u001b[0m\u001b[0mobj\u001b[0m\u001b[0;34m)\u001b[0m\u001b[0;34m:\u001b[0m\u001b[0;34m\u001b[0m\u001b[0m\n\u001b[1;32m   1203\u001b[0m \u001b[0;34m\u001b[0m\u001b[0m\n\u001b[0;32m-> 1204\u001b[0;31m             \u001b[0;32mif\u001b[0m \u001b[0mis_bool_indexer\u001b[0m\u001b[0;34m(\u001b[0m\u001b[0mobj\u001b[0m\u001b[0;34m)\u001b[0m\u001b[0;34m:\u001b[0m\u001b[0;34m\u001b[0m\u001b[0m\n\u001b[0m\u001b[1;32m   1205\u001b[0m                 \u001b[0mobj\u001b[0m \u001b[0;34m=\u001b[0m \u001b[0mcheck_bool_indexer\u001b[0m\u001b[0;34m(\u001b[0m\u001b[0mlabels\u001b[0m\u001b[0;34m,\u001b[0m \u001b[0mobj\u001b[0m\u001b[0;34m)\u001b[0m\u001b[0;34m\u001b[0m\u001b[0m\n\u001b[1;32m   1206\u001b[0m                 \u001b[0minds\u001b[0m\u001b[0;34m,\u001b[0m \u001b[0;34m=\u001b[0m \u001b[0mobj\u001b[0m\u001b[0;34m.\u001b[0m\u001b[0mnonzero\u001b[0m\u001b[0;34m(\u001b[0m\u001b[0;34m)\u001b[0m\u001b[0;34m\u001b[0m\u001b[0m\n",
      "\u001b[0;32m/home/alliedtoasters/anaconda3/lib/python3.6/site-packages/pandas/core/common.py\u001b[0m in \u001b[0;36mis_bool_indexer\u001b[0;34m(key)\u001b[0m\n\u001b[1;32m    187\u001b[0m             \u001b[0;32mif\u001b[0m \u001b[0;32mnot\u001b[0m \u001b[0mlib\u001b[0m\u001b[0;34m.\u001b[0m\u001b[0mis_bool_array\u001b[0m\u001b[0;34m(\u001b[0m\u001b[0mkey\u001b[0m\u001b[0;34m)\u001b[0m\u001b[0;34m:\u001b[0m\u001b[0;34m\u001b[0m\u001b[0m\n\u001b[1;32m    188\u001b[0m                 \u001b[0;32mif\u001b[0m \u001b[0misnull\u001b[0m\u001b[0;34m(\u001b[0m\u001b[0mkey\u001b[0m\u001b[0;34m)\u001b[0m\u001b[0;34m.\u001b[0m\u001b[0many\u001b[0m\u001b[0;34m(\u001b[0m\u001b[0;34m)\u001b[0m\u001b[0;34m:\u001b[0m\u001b[0;34m\u001b[0m\u001b[0m\n\u001b[0;32m--> 189\u001b[0;31m                     raise ValueError('cannot index with vector containing '\n\u001b[0m\u001b[1;32m    190\u001b[0m                                      'NA / NaN values')\n\u001b[1;32m    191\u001b[0m                 \u001b[0;32mreturn\u001b[0m \u001b[0;32mFalse\u001b[0m\u001b[0;34m\u001b[0m\u001b[0m\n",
      "\u001b[0;31mValueError\u001b[0m: cannot index with vector containing NA / NaN values"
     ]
    }
   ],
   "source": [
    "art.loc[art['Gender'].str.contains('\\) \\('), 'Gender'] = '\\(multiple_persons\\)'\n",
    "art.loc[art['Nationality'].str.contains('\\) \\('), 'Nationality'] = '\\(multiple_nationalities\\)'\n",
    "art.loc[art['Artist'].str.contains(','), 'Artist'] = 'Multiple_Artists'"
   ]
  },
  {
   "cell_type": "code",
   "execution_count": 48,
   "metadata": {},
   "outputs": [
    {
     "ename": "TypeError",
     "evalue": "bad operand type for unary ~: 'list'",
     "output_type": "error",
     "traceback": [
      "\u001b[0;31m---------------------------------------------------------------------------\u001b[0m",
      "\u001b[0;31mTypeError\u001b[0m                                 Traceback (most recent call last)",
      "\u001b[0;32m<ipython-input-48-aff6d12450a7>\u001b[0m in \u001b[0;36m<module>\u001b[0;34m()\u001b[0m\n\u001b[1;32m      1\u001b[0m art[~['Artist', 'Nationality', 'Gender', 'Date', 'Department',\n\u001b[0;32m----> 2\u001b[0;31m                     'DateAcquired', 'URL', 'ThumbnailURL', 'Height (cm)', 'Width (cm)']].isnull().any()\n\u001b[0m",
      "\u001b[0;31mTypeError\u001b[0m: bad operand type for unary ~: 'list'"
     ]
    }
   ],
   "source": [
    "art[['Artist', 'Nationality', 'Gender', 'Date', 'Department',\n",
    "                    'DateAcquired', 'URL', 'ThumbnailURL', 'Height (cm)', 'Width (cm)']].isnull().any()"
   ]
  },
  {
   "cell_type": "code",
   "execution_count": 22,
   "metadata": {},
   "outputs": [
    {
     "ename": "NameError",
     "evalue": "name 'art' is not defined",
     "output_type": "error",
     "traceback": [
      "\u001b[0;31m---------------------------------------------------------------------------\u001b[0m",
      "\u001b[0;31mNameError\u001b[0m                                 Traceback (most recent call last)",
      "\u001b[0;32m<ipython-input-22-e63a51f5002f>\u001b[0m in \u001b[0;36m<module>\u001b[0;34m()\u001b[0m\n\u001b[0;32m----> 1\u001b[0;31m \u001b[0mart\u001b[0m\u001b[0;34m.\u001b[0m\u001b[0mMedium\u001b[0m\u001b[0;34m.\u001b[0m\u001b[0munique\u001b[0m\u001b[0;34m(\u001b[0m\u001b[0;34m)\u001b[0m\u001b[0;34m\u001b[0m\u001b[0m\n\u001b[0m",
      "\u001b[0;31mNameError\u001b[0m: name 'art' is not defined"
     ]
    }
   ],
   "source": [
    "art.Medium.unique()"
   ]
  },
  {
   "cell_type": "code",
   "execution_count": null,
   "metadata": {
    "collapsed": true
   },
   "outputs": [],
   "source": []
  }
 ],
 "metadata": {
  "anaconda-cloud": {},
  "hide_input": false,
  "kernelspec": {
   "display_name": "Python 3",
   "language": "python",
   "name": "python3"
  },
  "language_info": {
   "codemirror_mode": {
    "name": "ipython",
    "version": 3
   },
   "file_extension": ".py",
   "mimetype": "text/x-python",
   "name": "python",
   "nbconvert_exporter": "python",
   "pygments_lexer": "ipython3",
   "version": "3.6.1"
  },
  "toc": {
   "colors": {
    "hover_highlight": "#DAA520",
    "running_highlight": "#FF0000",
    "selected_highlight": "#FFD700"
   },
   "moveMenuLeft": true,
   "nav_menu": {
    "height": "86px",
    "width": "252px"
   },
   "navigate_menu": true,
   "number_sections": true,
   "sideBar": true,
   "threshold": 4,
   "toc_cell": false,
   "toc_section_display": "block",
   "toc_window_display": false
  }
 },
 "nbformat": 4,
 "nbformat_minor": 2
}
